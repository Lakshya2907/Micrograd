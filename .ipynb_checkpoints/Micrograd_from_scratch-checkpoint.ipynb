{
 "cells": [
  {
   "cell_type": "code",
   "execution_count": 12,
   "id": "92f6dd15-34b1-4c91-a9ba-31224b60f40e",
   "metadata": {},
   "outputs": [],
   "source": [
    "import numpy as np\n",
    "import math"
   ]
  },
  {
   "cell_type": "code",
   "execution_count": 13,
   "id": "83ac75ec-d6ea-4ee4-93e6-6eeb446a7ebe",
   "metadata": {},
   "outputs": [
    {
     "name": "stdout",
     "output_type": "stream",
     "text": [
      "24.7041\n",
      "138.8338\n",
      "645.5773\n"
     ]
    }
   ],
   "source": [
    "from micrograd.engine import Value\n",
    "\n",
    "a = Value(-4.0)\n",
    "b = Value(2.0)\n",
    "c = a + b\n",
    "d = a * b + b**3\n",
    "c += c + 1\n",
    "c += 1 + c + (-a)\n",
    "d += d * 2 + (b + a).relu()\n",
    "d += 3 * d + (b - a).relu()\n",
    "e = c - d\n",
    "f = e**2\n",
    "g = f / 2.0\n",
    "g += 10.0 / f\n",
    "print(f'{g.data:.4f}') \n",
    "g.backward()\n",
    "print(f'{a.grad:.4f}') # prints 138.8338, i.e. the numerical value of dg/da\n",
    "print(f'{b.grad:.4f}') # prints 645.5773, i.e. the numerical value of dg/db"
   ]
  },
  {
   "cell_type": "code",
   "execution_count": 14,
   "id": "1f72c93c-92fc-4ea6-b3fa-a2454cf7e326",
   "metadata": {},
   "outputs": [
    {
     "name": "stdout",
     "output_type": "stream",
     "text": [
      "4\n"
     ]
    }
   ],
   "source": [
    "a = 2\n",
    "b = -3\n",
    "c = 10\n",
    "d = a*b + c\n",
    "print(d)"
   ]
  },
  {
   "cell_type": "code",
   "execution_count": 15,
   "id": "7d6f9f5f-9ee1-4d35-8159-1bdd85740c5b",
   "metadata": {},
   "outputs": [
    {
     "name": "stdout",
     "output_type": "stream",
     "text": [
      "Nudging A\n",
      "d1 4\n",
      "d2 3.999699999999999\n",
      "slope -3.000000000010772\n",
      "\n",
      "\n",
      "Nudging B\n",
      "d1 4\n",
      "d2 3.99990001\n",
      "slope -0.9998999999982772\n",
      "\n",
      "\n",
      "Nudging C\n",
      "d1 4\n",
      "d2 4.00000001\n",
      "slope 9.99999993922529e-05\n"
     ]
    }
   ],
   "source": [
    "h = 0.0001\n",
    "a = 2\n",
    "b = -3\n",
    "c = 10\n",
    "d1 = a*b + c\n",
    "print('Nudging A')\n",
    "print('d1', d1)\n",
    "a = a+h\n",
    "d2 = a*b + c\n",
    "print('d2', d2)\n",
    "print('slope', (d2-d1)/h)\n",
    "print('\\n')\n",
    "print('Nudging B')\n",
    "print('d1', d1)\n",
    "b = b+h\n",
    "d2 = a*b + c\n",
    "print('d2', d2)\n",
    "print('slope', (d2-d1)/h)\n",
    "print('\\n')\n",
    "print('Nudging C')\n",
    "print('d1', d1)\n",
    "c = c+h\n",
    "d2 = a*b + c\n",
    "print('d2', d2)\n",
    "print('slope', (d2-d1)/h)"
   ]
  },
  {
   "cell_type": "code",
   "execution_count": 16,
   "id": "b577b29a-d5f8-43d4-a06d-dc1ec70caac1",
   "metadata": {},
   "outputs": [],
   "source": [
    "class Value:\n",
    "    def __init__(self,data,_children=(),_op='',label=''):\n",
    "        self.data = data\n",
    "        self._prev = set(_children)\n",
    "        self.grad = 0.0\n",
    "        self._op = _op\n",
    "        self.label = label\n",
    "        \n",
    "    def __repr__(self):\n",
    "        return f\"Value(data={self.data})\"\n",
    "\n",
    "    def __add__(self,other):\n",
    "        out = Value(self.data + other.data,(self,other),'+')\n",
    "        return out\n",
    "\n",
    "    def __mul__(self,other):\n",
    "        out = Value(self.data * other.data,(self,other),'*')\n",
    "        return out\n",
    "\n",
    "    def tanh(self):\n",
    "        x = self.data\n",
    "        t = (math.exp(2*x) - 1)/(math.exp(2*x) + 1)\n",
    "        out = Value(t,(self, ),'tanh')\n",
    "        return out\n"
   ]
  },
  {
   "cell_type": "code",
   "execution_count": 40,
   "id": "2bf2c095-dd74-4ff4-8bad-f21b75396fb6",
   "metadata": {},
   "outputs": [],
   "source": [
    "from graphviz import Digraph\n",
    "def trace(root):\n",
    "    nodes, edges = set(), set()\n",
    "    \n",
    "    def build(v):\n",
    "        if v not in nodes:\n",
    "            nodes.add(v)\n",
    "            for child in v._prev:\n",
    "                edges.add((child, v))\n",
    "                build(child)\n",
    "    \n",
    "    build(root)\n",
    "    return nodes, edges\n",
    "\n",
    "\n",
    "\n",
    "def draw_dot(root):\n",
    "    def add_nodes_edges(var, graph):\n",
    "        if var not in graph.node_names:\n",
    "            graph.node(str(id(var)), label=\"{ %s | data %.4f | grad %.4f }\" % (var.label, var.data, var.grad), shape='record')\n",
    "            graph.node_names.add(var)\n",
    "            if var._prev:\n",
    "                for u in var._prev:\n",
    "                    graph.edge(str(id(u)), str(id(var)))\n",
    "                    add_nodes_edges(u, graph)\n",
    "\n",
    "    dot = Digraph(format='svg', graph_attr={'rankdir': 'LR'})\n",
    "    dot.node_names = set()\n",
    "    add_nodes_edges(root, dot)\n",
    "\n",
    "    # for n1,n2 in edges:\n",
    "    #     dot.edge(str(id(n1)),str(id(n2)) + n2._op)\n",
    "        \n",
    "    return dot\n"
   ]
  },
  {
   "cell_type": "code",
   "execution_count": 41,
   "id": "79fe1dfe-9e87-455d-bb7b-c73d0c8e4ac8",
   "metadata": {},
   "outputs": [],
   "source": [
    "#inputs \n",
    "x1 = Value(2.0,label = 'x1')\n",
    "x2 = Value(0.0,label = 'x2')\n",
    "#weights \n",
    "w1 = Value(-3.0,label = 'w1')\n",
    "w2 = Value(1.0,label = 'w2')\n",
    "#bias \n",
    "b = Value(6.8813735870195432,label = 'b')\n",
    "\n",
    "x1w1 = x1*w1; x1w1.label = 'x1*w1'\n",
    "x2w2 = x2*w2; x2w2.label = 'x2*w2'\n",
    "\n",
    "x1w1x2w2 = x1*w1 + x2*w2; x1w1x2w2.label = 'x1w1x2w2'\n",
    "n = x1w1x2w2 + b; n.label = 'n'\n",
    "o = n.tanh();o.label = 'o'\n"
   ]
  },
  {
   "cell_type": "code",
   "execution_count": 42,
   "id": "cbfedf32-d879-4f94-8449-981f9c92c66e",
   "metadata": {},
   "outputs": [
    {
     "ename": "NameError",
     "evalue": "name 'edges' is not defined",
     "output_type": "error",
     "traceback": [
      "\u001b[1;31m---------------------------------------------------------------------------\u001b[0m",
      "\u001b[1;31mNameError\u001b[0m                                 Traceback (most recent call last)",
      "Cell \u001b[1;32mIn[42], line 1\u001b[0m\n\u001b[1;32m----> 1\u001b[0m draw_dot(o)\n",
      "Cell \u001b[1;32mIn[40], line 30\u001b[0m, in \u001b[0;36mdraw_dot\u001b[1;34m(root)\u001b[0m\n\u001b[0;32m     27\u001b[0m dot\u001b[38;5;241m.\u001b[39mnode_names \u001b[38;5;241m=\u001b[39m \u001b[38;5;28mset\u001b[39m()\n\u001b[0;32m     28\u001b[0m add_nodes_edges(root, dot)\n\u001b[1;32m---> 30\u001b[0m \u001b[38;5;28;01mfor\u001b[39;00m n1,n2 \u001b[38;5;129;01min\u001b[39;00m edges:\n\u001b[0;32m     31\u001b[0m     dot\u001b[38;5;241m.\u001b[39medge(\u001b[38;5;28mstr\u001b[39m(\u001b[38;5;28mid\u001b[39m(n1)),\u001b[38;5;28mstr\u001b[39m(\u001b[38;5;28mid\u001b[39m(n2)) \u001b[38;5;241m+\u001b[39m n2\u001b[38;5;241m.\u001b[39m_op)\n\u001b[0;32m     33\u001b[0m \u001b[38;5;28;01mreturn\u001b[39;00m dot\n",
      "\u001b[1;31mNameError\u001b[0m: name 'edges' is not defined"
     ]
    }
   ],
   "source": [
    "draw_dot(o)"
   ]
  },
  {
   "cell_type": "code",
   "execution_count": 36,
   "id": "1111c420-690f-4196-b1d6-0b03cef43782",
   "metadata": {},
   "outputs": [],
   "source": [
    "o.grad = 1.0\n",
    "n.grad = 1 - o.data**2\n",
    "b.grad = n.grad\n",
    "x1w1x2w2.grad = n.grad"
   ]
  },
  {
   "cell_type": "code",
   "execution_count": null,
   "id": "99b29feb-6930-430d-a240-9db638e05278",
   "metadata": {},
   "outputs": [],
   "source": [
    "x1w1.grad = "
   ]
  }
 ],
 "metadata": {
  "kernelspec": {
   "display_name": "Python 3 (ipykernel)",
   "language": "python",
   "name": "python3"
  },
  "language_info": {
   "codemirror_mode": {
    "name": "ipython",
    "version": 3
   },
   "file_extension": ".py",
   "mimetype": "text/x-python",
   "name": "python",
   "nbconvert_exporter": "python",
   "pygments_lexer": "ipython3",
   "version": "3.11.7"
  }
 },
 "nbformat": 4,
 "nbformat_minor": 5
}
